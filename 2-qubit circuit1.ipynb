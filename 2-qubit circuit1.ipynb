{
 "cells": [
  {
   "cell_type": "code",
   "execution_count": 2,
   "metadata": {},
   "outputs": [],
   "source": [
    "%matplotlib inline\n",
    "from qiskit import *\n",
    "from qiskit.visualization import *\n",
    "from qiskit.tools.monitor import *\n"
   ]
  },
  {
   "cell_type": "code",
   "execution_count": 33,
   "metadata": {},
   "outputs": [
    {
     "data": {
      "text/html": [
       "<pre style=\"word-wrap: normal;white-space: pre;background: #fff0;line-height: 1.1;font-family: &quot;Courier New&quot;,Courier,monospace\">     ┌───┐     ┌─┐   \n",
       "q_0: ┤ H ├──■──┤M├───\n",
       "     └───┘┌─┴─┐└╥┘┌─┐\n",
       "q_1: ─────┤ X ├─╫─┤M├\n",
       "          └───┘ ║ └╥┘\n",
       "c: 2/═══════════╩══╩═\n",
       "                0  1 </pre>"
      ],
      "text/plain": [
       "     ┌───┐     ┌─┐   \n",
       "q_0: ┤ H ├──■──┤M├───\n",
       "     └───┘┌─┴─┐└╥┘┌─┐\n",
       "q_1: ─────┤ X ├─╫─┤M├\n",
       "          └───┘ ║ └╥┘\n",
       "c: 2/═══════════╩══╩═\n",
       "                0  1 "
      ]
     },
     "execution_count": 33,
     "metadata": {},
     "output_type": "execute_result"
    }
   ],
   "source": [
    "circ = QuantumCircuit(2,2)\n",
    "circ.h(0)\n",
    "circ.cx(0,1)\n",
    "\n",
    "circ.measure(range(2),range(2))\n",
    "circ.draw()\n"
   ]
  },
  {
   "cell_type": "code",
   "execution_count": 34,
   "metadata": {},
   "outputs": [
    {
     "name": "stdout",
     "output_type": "stream",
     "text": [
      "{'00': 505, '11': 495}\n"
     ]
    }
   ],
   "source": [
    "backend = Aer.get_backend('qasm_simulator')\n",
    "\n",
    "job_sim = execute(circ,backend,shots=1000)\n",
    "result = job_sim.result()\n",
    "counts = result.get_counts(circ)\n",
    "print(counts)"
   ]
  },
  {
   "cell_type": "code",
   "execution_count": 18,
   "metadata": {},
   "outputs": [
    {
     "name": "stdout",
     "output_type": "stream",
     "text": [
      "00 (0.7071067811865476+0j) 0.5000000000000001\n",
      "01 0j 0.0\n",
      "10 0j 0.0\n",
      "11 (0.7071067811865476+0j) 0.5000000000000001\n"
     ]
    }
   ],
   "source": [
    "circ2 = QuantumCircuit(2,2)\n",
    "circ2.h(0)\n",
    "circ2.cx(0,1)\n",
    "\n",
    "backend = Aer.get_backend('statevector_simulator')\n",
    "\n",
    "job = execute(circ2,backend)\n",
    "state = job.result().get_statevector()\n",
    "\n",
    "for i in range(4):\n",
    "    s = format(i,\"b\")  #for converting to binary\n",
    "    s = (2-len(s))*\"0\" +s #This is used to prepend 0\n",
    "    print(s,state[i], abs(state[i])**2)"
   ]
  },
  {
   "cell_type": "code",
   "execution_count": 19,
   "metadata": {},
   "outputs": [
    {
     "name": "stdout",
     "output_type": "stream",
     "text": [
      "ibmq_manila                  ibmq_quito                   ibmq_belem\n",
      "-----------                  ----------                   ----------\n",
      "Num. Qubits:  5              Num. Qubits:  5              Num. Qubits:  5\n",
      "Pending Jobs: 37             Pending Jobs: 1              Pending Jobs: 4\n",
      "Least busy:   False          Least busy:   True           Least busy:   False\n",
      "Operational:  True           Operational:  True           Operational:  True\n",
      "Avg. T1:      156.9          Avg. T1:      96.5           Avg. T1:      75.8\n",
      "Avg. T2:      68.2           Avg. T2:      105.6          Avg. T2:      106.4\n",
      "\n",
      "\n",
      "\n",
      "ibmq_lima                    ibmq_santiago                ibmq_athens\n",
      "---------                    -------------                -----------\n",
      "Num. Qubits:  5              Num. Qubits:  5              Num. Qubits:  5\n",
      "Pending Jobs: 5              Pending Jobs: 104            Pending Jobs: 14\n",
      "Least busy:   False          Least busy:   False          Least busy:   False\n",
      "Operational:  True           Operational:  True           Operational:  True\n",
      "Avg. T1:      71.6           Avg. T1:      129.4          Avg. T1:      93.5\n",
      "Avg. T2:      92.4           Avg. T2:      107.4          Avg. T2:      98.0\n",
      "\n",
      "\n",
      "\n",
      "ibmq_armonk                  ibmq_16_melbourne            ibmqx2\n",
      "-----------                  -----------------            ------\n",
      "Num. Qubits:  1              Num. Qubits:  15             Num. Qubits:  5\n",
      "Pending Jobs: 3              Pending Jobs: 148            Pending Jobs: 2\n",
      "Least busy:   False          Least busy:   False          Least busy:   False\n",
      "Operational:  True           Operational:  True           Operational:  True\n",
      "Avg. T1:      133.8          Avg. T1:      56.5           Avg. T1:      55.9\n",
      "Avg. T2:      275.9          Avg. T2:      55.9           Avg. T2:      31.4\n",
      "\n",
      "\n",
      "\n"
     ]
    }
   ],
   "source": [
    "provider = IBMQ.load_account()\n",
    "backend_overview()"
   ]
  },
  {
   "cell_type": "code",
   "execution_count": 20,
   "metadata": {},
   "outputs": [
    {
     "name": "stdout",
     "output_type": "stream",
     "text": [
      "ibmq_manila\n",
      "===========\n",
      "Configuration\n",
      "-------------\n",
      "    n_qubits: 5\n",
      "    operational: True\n",
      "    status_msg: active\n",
      "    pending_jobs: 38\n",
      "    backend_version: 1.0.3\n",
      "    basis_gates: ['id', 'rz', 'sx', 'x', 'cx', 'reset']\n",
      "    local: False\n",
      "    simulator: False\n",
      "    meas_lo_range: [[6.663214088e+18, 7.663214088e+18], [6.783322155e+18, 7.783322155e+18], [6.718928102e+18, 7.718928102e+18], [6.610142342e+18, 7.610142342e+18], [6.846997692e+18, 7.846997692e+18]]\n",
      "    online_date: 2021-04-28 04:00:00+00:00\n",
      "    discriminators: ['hw_qmfk', 'linear_discriminator', 'quadratic_discriminator']\n",
      "    default_rep_delay: 250.0\n",
      "    qubit_channel_mapping: [['u0', 'm0', 'u1', 'd0'], ['u1', 'u0', 'u2', 'u3', 'm1', 'd1'], ['u4', 'u5', 'u2', 'd2', 'm2', 'u3'], ['u4', 'u5', 'm3', 'u7', 'd3', 'u6'], ['m4', 'u6', 'u7', 'd4']]\n",
      "    coupling_map: [[0, 1], [1, 0], [1, 2], [2, 1], [2, 3], [3, 2], [3, 4], [4, 3]]\n",
      "    channels: {'acquire0': {'operates': {'qubits': [0]}, 'purpose': 'acquire', 'type': 'acquire'}, 'acquire1': {'operates': {'qubits': [1]}, 'purpose': 'acquire', 'type': 'acquire'}, 'acquire2': {'operates': {'qubits': [2]}, 'purpose': 'acquire', 'type': 'acquire'}, 'acquire3': {'operates': {'qubits': [3]}, 'purpose': 'acquire', 'type': 'acquire'}, 'acquire4': {'operates': {'qubits': [4]}, 'purpose': 'acquire', 'type': 'acquire'}, 'd0': {'operates': {'qubits': [0]}, 'purpose': 'drive', 'type': 'drive'}, 'd1': {'operates': {'qubits': [1]}, 'purpose': 'drive', 'type': 'drive'}, 'd2': {'operates': {'qubits': [2]}, 'purpose': 'drive', 'type': 'drive'}, 'd3': {'operates': {'qubits': [3]}, 'purpose': 'drive', 'type': 'drive'}, 'd4': {'operates': {'qubits': [4]}, 'purpose': 'drive', 'type': 'drive'}, 'm0': {'operates': {'qubits': [0]}, 'purpose': 'measure', 'type': 'measure'}, 'm1': {'operates': {'qubits': [1]}, 'purpose': 'measure', 'type': 'measure'}, 'm2': {'operates': {'qubits': [2]}, 'purpose': 'measure', 'type': 'measure'}, 'm3': {'operates': {'qubits': [3]}, 'purpose': 'measure', 'type': 'measure'}, 'm4': {'operates': {'qubits': [4]}, 'purpose': 'measure', 'type': 'measure'}, 'u0': {'operates': {'qubits': [0, 1]}, 'purpose': 'cross-resonance', 'type': 'control'}, 'u1': {'operates': {'qubits': [1, 0]}, 'purpose': 'cross-resonance', 'type': 'control'}, 'u2': {'operates': {'qubits': [1, 2]}, 'purpose': 'cross-resonance', 'type': 'control'}, 'u3': {'operates': {'qubits': [2, 1]}, 'purpose': 'cross-resonance', 'type': 'control'}, 'u4': {'operates': {'qubits': [2, 3]}, 'purpose': 'cross-resonance', 'type': 'control'}, 'u5': {'operates': {'qubits': [3, 2]}, 'purpose': 'cross-resonance', 'type': 'control'}, 'u6': {'operates': {'qubits': [3, 4]}, 'purpose': 'cross-resonance', 'type': 'control'}, 'u7': {'operates': {'qubits': [4, 3]}, 'purpose': 'cross-resonance', 'type': 'control'}}\n",
      "    meas_kernels: ['hw_qmfk']\n",
      "    meas_map: [[0, 1, 2, 3, 4]]\n",
      "    processor_type: {'family': 'Falcon', 'revision': '5.11', 'segment': 'L'}\n",
      "    memory: True\n",
      "    dt: 0.2222222222222222\n",
      "    dynamic_reprate_enabled: True\n",
      "    measure_esp_enabled: False\n",
      "    n_uchannels: 8\n",
      "    rep_delay_range: [0.0, 500.0]\n",
      "    meas_levels: [1, 2]\n",
      "    dtm: 0.2222222222222222\n",
      "    parametric_pulses: ['gaussian', 'gaussian_square', 'drag', 'constant']\n",
      "    backend_name: ibmq_manila\n",
      "    n_registers: 1\n",
      "    pulse_num_qubits: 3\n",
      "    input_allowed: ['job']\n",
      "    qubit_lo_range: [[4.462792941742131e+18, 5.462792941742131e+18], [4.338420761637392e+18, 5.338420761637392e+18], [4.53694397635457e+18, 5.53694397635457e+18], [4.451300300125495e+18, 5.451300300125495e+18], [4.566351574256352e+18, 5.566351574256352e+18]]\n",
      "    allow_q_object: True\n",
      "    credits_required: True\n",
      "    max_shots: 8192\n",
      "    supported_instructions: ['x', 'delay', 'sx', 'u1', 'measure', 'rz', 'u2', 'u3', 'cx', 'setf', 'acquire', 'id', 'reset', 'play', 'shiftf']\n",
      "    multi_meas_enabled: True\n",
      "    acquisition_latency: []\n",
      "    uchannels_enabled: True\n",
      "    conditional_latency: []\n",
      "    conditional: False\n",
      "    u_channel_lo: [[{'q': 1, 'scale': (1+0j)}], [{'q': 0, 'scale': (1+0j)}], [{'q': 2, 'scale': (1+0j)}], [{'q': 1, 'scale': (1+0j)}], [{'q': 3, 'scale': (1+0j)}], [{'q': 2, 'scale': (1+0j)}], [{'q': 4, 'scale': (1+0j)}], [{'q': 3, 'scale': (1+0j)}]]\n",
      "    allow_object_storage: True\n",
      "    max_experiments: 75\n",
      "    sample_name: family: Falcon, revision: 5.11, segment: L\n",
      "    description: 5 qubit device\n",
      "    quantum_volume: 32\n",
      "    pulse_num_channels: 9\n",
      "    hamiltonian: {'description': 'Qubits are modeled as Duffing oscillators. In this case, the system includes higher energy states, i.e. not just |0> and |1>. The Pauli operators are generalized via the following set of transformations:\\n\\n$(\\\\mathbb{I}-\\\\sigma_{i}^z)/2 \\\\rightarrow O_i \\\\equiv b^\\\\dagger_{i} b_{i}$,\\n\\n$\\\\sigma_{+} \\\\rightarrow b^\\\\dagger$,\\n\\n$\\\\sigma_{-} \\\\rightarrow b$,\\n\\n$\\\\sigma_{i}^X \\\\rightarrow b^\\\\dagger_{i} + b_{i}$.\\n\\nQubits are coupled through resonator buses. The provided Hamiltonian has been projected into the zero excitation subspace of the resonator buses leading to an effective qubit-qubit flip-flop interaction. The qubit resonance frequencies in the Hamiltonian are the cavity dressed frequencies and not exactly what is returned by the backend defaults, which also includes the dressing due to the qubit-qubit interactions.\\n\\nQuantities are returned in angular frequencies, with units 2*pi*GHz.\\n\\nWARNING: Currently not all system Hamiltonian information is available to the public, missing values have been replaced with 0.\\n', 'h_latex': '\\\\begin{align} \\\\mathcal{H}/\\\\hbar = & \\\\sum_{i=0}^{4}\\\\left(\\\\frac{\\\\omega_{q,i}}{2}(\\\\mathbb{I}-\\\\sigma_i^{z})+\\\\frac{\\\\Delta_{i}}{2}(O_i^2-O_i)+\\\\Omega_{d,i}D_i(t)\\\\sigma_i^{X}\\\\right) \\\\\\\\ & + J_{0,1}(\\\\sigma_{0}^{+}\\\\sigma_{1}^{-}+\\\\sigma_{0}^{-}\\\\sigma_{1}^{+}) + J_{1,2}(\\\\sigma_{1}^{+}\\\\sigma_{2}^{-}+\\\\sigma_{1}^{-}\\\\sigma_{2}^{+}) + J_{2,3}(\\\\sigma_{2}^{+}\\\\sigma_{3}^{-}+\\\\sigma_{2}^{-}\\\\sigma_{3}^{+}) + J_{3,4}(\\\\sigma_{3}^{+}\\\\sigma_{4}^{-}+\\\\sigma_{3}^{-}\\\\sigma_{4}^{+}) \\\\\\\\ & + \\\\Omega_{d,0}(U_{0}^{(0,1)}(t))\\\\sigma_{0}^{X} + \\\\Omega_{d,1}(U_{1}^{(1,0)}(t)+U_{2}^{(1,2)}(t))\\\\sigma_{1}^{X} \\\\\\\\ & + \\\\Omega_{d,2}(U_{3}^{(2,1)}(t)+U_{4}^{(2,3)}(t))\\\\sigma_{2}^{X} + \\\\Omega_{d,3}(U_{6}^{(3,4)}(t)+U_{5}^{(3,2)}(t))\\\\sigma_{3}^{X} \\\\\\\\ & + \\\\Omega_{d,4}(U_{7}^{(4,3)}(t))\\\\sigma_{4}^{X} \\\\\\\\ \\\\end{align}', 'h_str': ['_SUM[i,0,4,wq{i}/2*(I{i}-Z{i})]', '_SUM[i,0,4,delta{i}/2*O{i}*O{i}]', '_SUM[i,0,4,-delta{i}/2*O{i}]', '_SUM[i,0,4,omegad{i}*X{i}||D{i}]', 'jq0q1*Sp0*Sm1', 'jq0q1*Sm0*Sp1', 'jq1q2*Sp1*Sm2', 'jq1q2*Sm1*Sp2', 'jq2q3*Sp2*Sm3', 'jq2q3*Sm2*Sp3', 'jq3q4*Sp3*Sm4', 'jq3q4*Sm3*Sp4', 'omegad1*X0||U0', 'omegad0*X1||U1', 'omegad2*X1||U2', 'omegad1*X2||U3', 'omegad3*X2||U4', 'omegad4*X3||U6', 'omegad2*X3||U5', 'omegad3*X4||U7'], 'osc': {}, 'qub': {'0': 3, '1': 3, '2': 3, '3': 3, '4': 3}, 'vars': {'delta0': -2.1573187977651487, 'delta1': -2.1753119475601674, 'delta2': -2.159281266514359, 'delta3': -2.158603148482815, 'delta4': -2.1495256907311115, 'jq0q1': 0.011845444218797994, 'jq1q2': 0.01196783968906386, 'jq2q3': 0.012402113956012368, 'jq3q4': 0.012186910370408229, 'omegad0': 0.9521914120435199, 'omegad1': 0.9807222890375165, 'omegad2': 0.9484029629799393, 'omegad3': 0.9633634598309898, 'omegad4': 0.97580160348097, 'wq0': 31.182147694128716, 'wq1': 30.400694239472728, 'wq2': 31.648052385317758, 'wq3': 31.109937297182388, 'wq4': 31.83282577237368}}\n",
      "    url: None\n",
      "    rep_times: [0.001]\n",
      "    open_pulse: False\n",
      "\n",
      "Qubits [Name / Freq / T1 / T2 / RZ err / SX err / X err / Readout err]\n",
      "----------------------------------------------------------------------\n",
      "    Q0 / 4.96279 GHz / 157.79867 us / 118.05467 us / 0.00000 / 0.00020 / 0.00020 / 0.02440 \n",
      "    Q1 / 4.83842 GHz / 121.38544 us / 89.03953 us / 0.00000 / 0.00020 / 0.00020 / 0.02100 \n",
      "    Q2 / 5.03694 GHz / 103.31638 us / 23.94357 us / 0.00000 / 0.00069 / 0.00069 / 0.04560 \n",
      "    Q3 / 4.95130 GHz / 252.05814 us / 71.75694 us / 0.00000 / 0.00017 / 0.00017 / 0.01980 \n",
      "    Q4 / 5.06635 GHz / 150.14083 us / 38.44246 us / 0.00000 / 0.00038 / 0.00038 / 0.01940 \n",
      "\n",
      "Multi-Qubit Gates [Name / Type / Gate Error]\n",
      "--------------------------------------------\n",
      "    cx4_3 / cx / 0.00518\n",
      "    cx3_4 / cx / 0.00518\n",
      "    cx2_3 / cx / 0.00866\n",
      "    cx3_2 / cx / 0.00866\n",
      "    cx1_2 / cx / 0.01411\n",
      "    cx2_1 / cx / 0.01411\n",
      "    cx0_1 / cx / 0.00523\n",
      "    cx1_0 / cx / 0.00523\n"
     ]
    }
   ],
   "source": [
    "backend_monitor(provider.get_backend(\"ibmq_manila\"))\n"
   ]
  },
  {
   "cell_type": "code",
   "execution_count": 21,
   "metadata": {},
   "outputs": [
    {
     "name": "stdout",
     "output_type": "stream",
     "text": [
      "We are executing on... ibmq_belem\n",
      "It has 0 pending jobs\n",
      "Job Status: job has successfully run\n"
     ]
    }
   ],
   "source": [
    "from qiskit.providers.ibmq import least_busy\n",
    "\n",
    "# We execute on the least busy device (among the actual quantum computers)\n",
    "backend = least_busy(provider.backends(operational = True, simulator=False, status_msg='active',\n",
    "                                       filters=lambda x: x.configuration().n_qubits > 1)) \n",
    "print(\"We are executing on...\",backend)\n",
    "print(\"It has\",backend.status().pending_jobs,\"pending jobs\")\n",
    "job_exp = execute(circ, backend=backend)\n",
    "job_monitor(job_exp)\n"
   ]
  },
  {
   "cell_type": "code",
   "execution_count": 22,
   "metadata": {},
   "outputs": [
    {
     "data": {
      "image/png": "[encoded data removed]",
      "text/plain": [
       "<Figure size 504x360 with 1 Axes>"
      ]
     },
     "execution_count": 22,
     "metadata": {},
     "output_type": "execute_result"
    }
   ],
   "source": [
    "result_exp = job_exp.result()\n",
    "counts_exp = result_exp.get_counts(circ)\n",
    "plot_histogram([counts_exp,counts], legend=['Device', 'Simulator'])"
   ]
  },
  {
   "cell_type": "code",
   "execution_count": null,
   "metadata": {},
   "outputs": [],
   "source": []
  }
 ],
 "metadata": {
  "kernelspec": {
   "display_name": "Python 3",
   "language": "python",
   "name": "python3"
  },
  "language_info": {
   "codemirror_mode": {
    "name": "ipython",
    "version": 3
   },
   "file_extension": ".py",
   "mimetype": "text/x-python",
   "name": "python",
   "nbconvert_exporter": "python",
   "pygments_lexer": "ipython3",
   "version": "3.7.4"
  }
 },
 "nbformat": 4,
 "nbformat_minor": 2
}
