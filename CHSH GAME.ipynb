{
 "cells": [
  {
   "cell_type": "code",
   "execution_count": 1,
   "metadata": {},
   "outputs": [],
   "source": [
    "###############################################\n",
    "###############################################\n",
    "#\n",
    "#Description of Game = 2 persons Alice and Bob\n",
    "#will receive 2 bits from an arbitor(x and y), \n",
    "#they both have to chose one bit each(a and b),\n",
    "#such that a(xor)b=xy\n",
    "#They both cannot communicate with each other\n",
    "#they can communicate beforehand tho to decide\n",
    "#the strategy.\n",
    "#\n",
    "###############################################"
   ]
  },
  {
   "cell_type": "code",
   "execution_count": 13,
   "metadata": {},
   "outputs": [],
   "source": [
    "%matplotlib inline\n",
    "from qiskit import *\n",
    "from qiskit.visualization import *\n",
    "from qiskit.tools.monitor import *\n",
    "import random\n",
    "import numpy as np"
   ]
  },
  {
   "cell_type": "code",
   "execution_count": 11,
   "metadata": {},
   "outputs": [],
   "source": [
    "#strategy of Alice and Bob to play the game\n",
    "#They predecide them to be in entangled state\n",
    "#of (|00> + |11>)/sqrt(2)\n",
    "#1. if Alice receives 0, she goes on with measuring without changing the orientation/state of qubit\n",
    "#2. If Alice receives 1, she does Ry(pi/2)\n",
    "#3. If Bob receives 0, he does Ry(pi/4)\n",
    "#4. If Bob receives 1, he does Ry(-pi/4)\n"
   ]
  },
  {
   "cell_type": "code",
   "execution_count": 55,
   "metadata": {},
   "outputs": [
    {
     "name": "stderr",
     "output_type": "stream",
     "text": [
      "ibmqfactory.load_account:WARNING:2021-06-25 17:59:32,362: Credentials are already in use. The existing account in the session will be replaced.\n"
     ]
    },
    {
     "name": "stdout",
     "output_type": "stream",
     "text": [
      "ibmq_manila                  ibmq_quito                   ibmq_belem\n",
      "-----------                  ----------                   ----------\n",
      "Num. Qubits:  5              Num. Qubits:  5              Num. Qubits:  5\n",
      "Pending Jobs: 41             Pending Jobs: 17             Pending Jobs: 6\n",
      "Least busy:   False          Least busy:   False          Least busy:   False\n",
      "Operational:  True           Operational:  True           Operational:  True\n",
      "Avg. T1:      141.2          Avg. T1:      96.5           Avg. T1:      84.3\n",
      "Avg. T2:      64.6           Avg. T2:      103.4          Avg. T2:      110.2\n",
      "\n",
      "\n",
      "\n",
      "ibmq_lima                    ibmq_santiago                ibmq_athens\n",
      "---------                    -------------                -----------\n",
      "Num. Qubits:  5              Num. Qubits:  5              Num. Qubits:  5\n",
      "Pending Jobs: 6              Pending Jobs: 80             Pending Jobs: 4\n",
      "Least busy:   False          Least busy:   False          Least busy:   True\n",
      "Operational:  True           Operational:  True           Operational:  True\n",
      "Avg. T1:      60.5           Avg. T1:      118.0          Avg. T1:      88.8\n",
      "Avg. T2:      75.3           Avg. T2:      104.3          Avg. T2:      94.4\n",
      "\n",
      "\n",
      "\n",
      "ibmq_armonk                  ibmq_16_melbourne            ibmqx2\n",
      "-----------                  -----------------            ------\n",
      "Num. Qubits:  1              Num. Qubits:  15             Num. Qubits:  5\n",
      "Pending Jobs: 4              Pending Jobs: 147            Pending Jobs: 1275\n",
      "Least busy:   False          Least busy:   False          Least busy:   False\n",
      "Operational:  True           Operational:  True           Operational:  True\n",
      "Avg. T1:      131.6          Avg. T1:      54.0           Avg. T1:      55.9\n",
      "Avg. T2:      194.1          Avg. T2:      58.8           Avg. T2:      26.0\n",
      "\n",
      "\n",
      "\n"
     ]
    }
   ],
   "source": [
    "provider = IBMQ.load_account()\n",
    "backend_overview()"
   ]
  },
  {
   "cell_type": "code",
   "execution_count": 54,
   "metadata": {
    "scrolled": true
   },
   "outputs": [
    {
     "name": "stdout",
     "output_type": "stream",
     "text": [
      "1 0\n",
      "0.80859375\n",
      "0 1\n",
      "0.82373046875\n",
      "1 1\n",
      "0.822265625\n",
      "0 1\n",
      "0.818359375\n",
      "1 0\n",
      "0.80859375\n",
      "0 0\n",
      "0.81298828125\n",
      "1 1\n",
      "0.82568359375\n",
      "1 1\n",
      "0.8310546875\n",
      "0 1\n",
      "0.81982421875\n",
      "1 1\n",
      "0.82373046875\n",
      "0 1\n",
      "0.810546875\n",
      "0 0\n",
      "0.8232421875\n",
      "1 0\n",
      "0.82861328125\n",
      "0 1\n",
      "0.82470703125\n",
      "0 1\n",
      "0.82373046875\n",
      "0 1\n",
      "0.8232421875\n",
      "0 1\n",
      "0.82958984375\n",
      "1 0\n",
      "0.8173828125\n",
      "1 1\n",
      "0.82373046875\n",
      "1 1\n",
      "0.8134765625\n",
      "0.820654296875\n"
     ]
    }
   ],
   "source": [
    "#Getting an entangled state ready\n",
    "##circ = QuantumCircuit(2,2)\n",
    "#circ.h(0)\n",
    "\n",
    "#circ.cx(0,1)\n",
    "total = 0\n",
    "abt = 0\n",
    "\n",
    "for i in range(20):\n",
    "    x = random.randint(0,1)\n",
    "    y = random.randint(0,1)\n",
    "    circ = QuantumCircuit(2,2)\n",
    "    circ.h(0)\n",
    "    circ.cx(0,1)\n",
    "    total = 0\n",
    "    if x == 0:\n",
    "        circ.ry(0,0)\n",
    "    else:\n",
    "        circ.ry(np.pi/2,0)\n",
    "    if y == 0:\n",
    "        circ.ry(np.pi/4,1)\n",
    "    else:\n",
    "        circ.ry(-np.pi/4,1)\n",
    "        \n",
    "        \n",
    "    #executing\n",
    "    circ.measure(range(2),range(2))\n",
    "    backend = provider.get_backend('ibmq_lima')\n",
    "\n",
    "    job = execute(circ,backend,shots = 2048)\n",
    "\n",
    "    result = job.result()\n",
    "    counts = result.get_counts(circ) \n",
    "    \n",
    "    #getting probability\n",
    "    if x*y == 0:\n",
    "        if ('00' in counts):\n",
    "            total += counts['00']\n",
    "            abt += counts['00']\n",
    "        if('11' in counts):\n",
    "            total += counts['11']\n",
    "            abt += counts['11']\n",
    "    elif x*y == 1:\n",
    "        if ('01' in counts):\n",
    "            total += counts['01']\n",
    "            abt += counts['01']\n",
    "        if('10' in counts):\n",
    "            total += counts['10']\n",
    "            abt += counts['10']\n",
    "    print(x,y)\n",
    "    print(total/2048)\n",
    "    total = 0\n",
    "\n",
    "    \n",
    "\n",
    "print(abt/(2048*20))\n",
    "\n"
   ]
  },
  {
   "cell_type": "code",
   "execution_count": null,
   "metadata": {},
   "outputs": [],
   "source": []
  },
  {
   "cell_type": "code",
   "execution_count": null,
   "metadata": {},
   "outputs": [],
   "source": []
  },
  {
   "cell_type": "code",
   "execution_count": null,
   "metadata": {},
   "outputs": [],
   "source": []
  }
 ],
 "metadata": {
  "kernelspec": {
   "display_name": "Python 3",
   "language": "python",
   "name": "python3"
  },
  "language_info": {
   "codemirror_mode": {
    "name": "ipython",
    "version": 3
   },
   "file_extension": ".py",
   "mimetype": "text/x-python",
   "name": "python",
   "nbconvert_exporter": "python",
   "pygments_lexer": "ipython3",
   "version": "3.7.4"
  }
 },
 "nbformat": 4,
 "nbformat_minor": 2
}
